{
 "cells": [
  {
   "cell_type": "code",
   "execution_count": 1,
   "outputs": [],
   "source": [
    "import numpy as np\n",
    "from matplotlib import pyplot as plt\n",
    "from scipy.integrate import solve_ivp\n",
    "import matplotlib.animation as animation\n",
    "from numpy import linalg as la"
   ],
   "metadata": {
    "collapsed": false,
    "ExecuteTime": {
     "end_time": "2023-11-21T06:33:13.874039500Z",
     "start_time": "2023-11-21T06:33:12.525050200Z"
    }
   },
   "id": "66fc7942d40036e0"
  },
  {
   "cell_type": "code",
   "execution_count": 2,
   "id": "initial_id",
   "metadata": {
    "collapsed": true,
    "ExecuteTime": {
     "end_time": "2023-11-21T06:33:16.263795800Z",
     "start_time": "2023-11-21T06:33:16.210554200Z"
    }
   },
   "outputs": [],
   "source": [
    "def gamma_update(gamma, decay_factor=1.0):\n",
    "    \"\"\"Updates the weight coefficients for each attractor.\n",
    "    Params:\n",
    "        gamma: ndarray(n,) \n",
    "            The current weights\n",
    "        decay_factor: float\n",
    "            How fast the element decays\n",
    "    \n",
    "    Returns:\n",
    "        gamma: ndarray(n,)\n",
    "            The updated weights\n",
    "    \"\"\"\n",
    "    n = len(gamma)\n",
    "    for i in range(n):\n",
    "        gamma[i] = 1 if T_i[i] == -1 else int(T_i[i] != -1) * np.exp(-decay_factor * (t - T_i[i]))\n",
    "    return gamma\n",
    "\n",
    "# Define the outer scope gamma vector representing if a flower has been visited\n",
    "n = 2  # Number of attractors\n",
    "\n",
    "# Vector of weights for each attractor based on if the flower was visited\n",
    "gamma = np.ones(n)  # Initialize as vector of ones\n",
    "\n",
    "eps = .01  # Threshold for triggering \"Flower Visited\"\n",
    "\n",
    "# Indicator for if an attractor was visited\n",
    "# Once visited, stores the time step it was first visited at for use in the attraction decay function\n",
    "T = -np.ones(n)  # Initialize as vector of negative ones\n",
    "decay_factor = 1  # How fast the attraction decays once visited\n"
   ]
  },
  {
   "cell_type": "code",
   "execution_count": null,
   "outputs": [],
   "source": [],
   "metadata": {
    "collapsed": false
   },
   "id": "af5385989f231e1d"
  }
 ],
 "metadata": {
  "kernelspec": {
   "display_name": "Python 3",
   "language": "python",
   "name": "python3"
  },
  "language_info": {
   "codemirror_mode": {
    "name": "ipython",
    "version": 2
   },
   "file_extension": ".py",
   "mimetype": "text/x-python",
   "name": "python",
   "nbconvert_exporter": "python",
   "pygments_lexer": "ipython2",
   "version": "2.7.6"
  }
 },
 "nbformat": 4,
 "nbformat_minor": 5
}
