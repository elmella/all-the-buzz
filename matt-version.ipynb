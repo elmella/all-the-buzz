{
 "cells": [
  {
   "cell_type": "code",
   "execution_count": 128,
   "metadata": {},
   "outputs": [],
   "source": [
    "import numpy as np\n",
    "from matplotlib import pyplot as plt\n",
    "from scipy.integrate import solve_ivp\n",
    "import matplotlib.animation as animation"
   ]
  },
  {
   "cell_type": "code",
   "execution_count": 175,
   "metadata": {},
   "outputs": [],
   "source": [
    "def random_flower_attraction(features=2, num_flowers = 10, max_attraction = 10):\n",
    "    # Random initial condition, only positive, numbers between 0 and max_attraction\n",
    "    return np.random.rand(features, num_flowers) * max_attraction\n"
   ]
  },
  {
   "cell_type": "code",
   "execution_count": 174,
   "metadata": {},
   "outputs": [],
   "source": [
    "def random_flower_position(num_flowers = 10, max_position = 10):\n",
    "    # Random initial condition, only positive, numbers between 0 and max_position\n",
    "    return np.random.rand(2, num_flowers) * max_position"
   ]
  },
  {
   "cell_type": "code",
   "execution_count": 173,
   "metadata": {},
   "outputs": [],
   "source": [
    "def random_bee_position(x_lim=10, y_lim=10):\n",
    "    # Random initial condition x and y, only positive coordinates\n",
    "    return np.array([np.random.rand() * x_lim, np.random.rand() * y_lim])\n",
    "\n",
    "#test"
   ]
  },
  {
   "cell_type": "code",
   "execution_count": 172,
   "metadata": {},
   "outputs": [],
   "source": [
    "def random_bee_attraction(features=2, max_attraction=10):\n",
    "    # Random initial condition, only positive, numbers between 0 and max_attraction\n",
    "    return np.random.rand(features) * max_attraction"
   ]
  },
  {
   "cell_type": "code",
   "execution_count": 178,
   "metadata": {},
   "outputs": [],
   "source": [
    "flower_qnty = 10\n",
    "max_attraction = 10\n",
    "features = 2\n",
    "flower_positions = random_flower_position(flower_qnty)\n",
    "bee_position = random_bee_position()\n",
    "bee_preferences = random_bee_attraction(features, max_attraction)\n",
    "flower_attraction = random_flower_attraction(num_flowers=flower_qnty, features=features, max_attraction=max_attraction)"
   ]
  },
  {
   "cell_type": "code",
   "execution_count": 192,
   "metadata": {},
   "outputs": [
    {
     "name": "stdout",
     "output_type": "stream",
     "text": [
      "[ 0.56747071 -3.25863599]\n"
     ]
    }
   ],
   "source": [
    "# print(flower_positions)\n",
    "print(flower_positions[:,0] - bee_position)\n",
    "# print(bee_position)\n",
    "# print(bee_preferences)\n",
    "# print(flower_attraction)"
   ]
  },
  {
   "cell_type": "code",
   "execution_count": 181,
   "metadata": {},
   "outputs": [
    {
     "data": {
      "text/plain": [
       "array([[-5.69370717, -4.23533948, -3.4670706 , -7.86368098, -5.24132809,\n",
       "        -2.12942534, -1.83654818, -2.62580482, -1.51260155, -8.0965217 ],\n",
       "       [-2.81036881,  2.18439244,  2.68705651,  2.80677369,  2.46749325,\n",
       "        -1.20942815, -0.23058298, -7.05992397,  0.37421582, -2.36148247]])"
      ]
     },
     "execution_count": 181,
     "metadata": {},
     "output_type": "execute_result"
    }
   ],
   "source": [
    "flower_attraction - bee_preferences[:, np.newaxis]"
   ]
  },
  {
   "cell_type": "code",
   "execution_count": 195,
   "metadata": {},
   "outputs": [],
   "source": [
    "def attraction_to_velocity(mutual_attraction, mutual_distances, max_velocity=1):\n",
    "    # normalize mutual_distances\n",
    "    mutual_distances = mutual_distances / np.max(mutual_distances)\n",
    "    return mutual_attraction * (1 - mutual_distances) * max_velocity"
   ]
  },
  {
   "cell_type": "code",
   "execution_count": 214,
   "metadata": {},
   "outputs": [
    {
     "name": "stdout",
     "output_type": "stream",
     "text": [
      "[[ -3.40054773  -7.34246592  -6.91061452  -6.39135195  -0.\n",
      "   -8.53683996  -4.85805101  -0.94651633  -1.9282115  -30.35591307]\n",
      " [ -9.3100917   11.93386996   3.35617269   8.87523507  12.40776366\n",
      "   -0.93100702  -0.21584149 -15.19189205   0.96345879 -12.25245657]]\n"
     ]
    }
   ],
   "source": [
    "max_speed = .1\n",
    "velocity = 0\n",
    "mutual_attractions = flower_attraction - bee_preferences[:, np.newaxis]\n",
    "distance = flower_positions - bee_position[:, np.newaxis]\n",
    "\n",
    "G = attraction_to_velocity(mutual_attractions, distance)\n",
    "print(G)\n",
    "# velocity += max_speed/(1+np.exp(-G))\n",
    "# buzz_factor = np.array([velocity[1],-velocity[0]])\n",
    "    # return velocity + 5*np.sin(2*t)*(buzz_factor/(np.linalg.norm(buzz_factor)+1))"
   ]
  },
  {
   "cell_type": "code",
   "execution_count": 217,
   "metadata": {},
   "outputs": [],
   "source": [
    "def gauss_dist(distances, sigma=1):\n",
    "    return np.exp(-np.linalg.norm(distances, axis=0)**2/(2*sigma**2))"
   ]
  },
  {
   "cell_type": "code",
   "execution_count": 219,
   "metadata": {},
   "outputs": [
    {
     "data": {
      "text/plain": [
       "array([[-4.11211961e-03,  1.04101896e-09,  1.18779013e+00,\n",
       "        -6.32788721e-03, -4.72354493e-08,  2.51826932e-04,\n",
       "         1.24477684e-01, -2.27573063e-01,  2.05886571e-02,\n",
       "         6.71030889e-11],\n",
       "       [ 1.16553770e-02, -3.26648791e-09, -2.30799902e-01,\n",
       "        -2.60814930e-02, -8.95828560e-08, -1.09426257e-05,\n",
       "        -6.07308948e-04,  1.10202439e+00, -2.91901610e-02,\n",
       "         2.98172984e-11]])"
      ]
     },
     "execution_count": 219,
     "metadata": {},
     "output_type": "execute_result"
    }
   ],
   "source": [
    "def attraction_to_flower(mutual_attraction, mutual_distances, max_velocity=1):\n",
    "    # normalize mutual_distances\n",
    "    velocity_unit = mutual_distances / np.linalg.norm(mutual_distances, axis=0)\n",
    "    return mutual_attraction * velocity_unit * gauss_dist(mutual_distances)\n",
    "#test\n",
    "attraction_to_flower(mutual_attractions, distance)"
   ]
  },
  {
   "cell_type": "code",
   "execution_count": 205,
   "metadata": {},
   "outputs": [
    {
     "data": {
      "text/plain": [
       "array([4.20969218e-03, 1.51544174e-09, 3.53195157e-01, 9.32711667e-03,\n",
       "       3.74070361e-08, 1.18606117e-04, 6.78292202e-02, 1.78541941e-01,\n",
       "       7.91822204e-02, 1.51035779e-11])"
      ]
     },
     "execution_count": 205,
     "metadata": {},
     "output_type": "execute_result"
    }
   ],
   "source": [
    "gauss_dist(distance)"
   ]
  },
  {
   "cell_type": "code",
   "execution_count": 196,
   "metadata": {},
   "outputs": [
    {
     "ename": "TypeError",
     "evalue": "'int' object is not subscriptable",
     "output_type": "error",
     "traceback": [
      "\u001b[0;31m---------------------------------------------------------------------------\u001b[0m",
      "\u001b[0;31mTypeError\u001b[0m                                 Traceback (most recent call last)",
      "\u001b[1;32m/Users/matthewmella/all-the-buzz/matt-version.ipynb Cell 10\u001b[0m line \u001b[0;36m1\n\u001b[1;32m      <a href='vscode-notebook-cell:/Users/matthewmella/all-the-buzz/matt-version.ipynb#W4sZmlsZQ%3D%3D?line=8'>9</a>\u001b[0m     buzz_factor \u001b[39m=\u001b[39m np\u001b[39m.\u001b[39marray([velocity[\u001b[39m1\u001b[39m],\u001b[39m-\u001b[39mvelocity[\u001b[39m0\u001b[39m]])\n\u001b[1;32m     <a href='vscode-notebook-cell:/Users/matthewmella/all-the-buzz/matt-version.ipynb#W4sZmlsZQ%3D%3D?line=9'>10</a>\u001b[0m     \u001b[39mreturn\u001b[39;00m velocity \u001b[39m+\u001b[39m \u001b[39m5\u001b[39m\u001b[39m*\u001b[39mnp\u001b[39m.\u001b[39msin(\u001b[39m2\u001b[39m\u001b[39m*\u001b[39mt)\u001b[39m*\u001b[39m(buzz_factor\u001b[39m/\u001b[39m(np\u001b[39m.\u001b[39mlinalg\u001b[39m.\u001b[39mnorm(buzz_factor)\u001b[39m+\u001b[39m\u001b[39m1\u001b[39m))\n\u001b[0;32m---> <a href='vscode-notebook-cell:/Users/matthewmella/all-the-buzz/matt-version.ipynb#W4sZmlsZQ%3D%3D?line=11'>12</a>\u001b[0m sol \u001b[39m=\u001b[39m solve_ivp(ode,(\u001b[39m0\u001b[39;49m,\u001b[39m300\u001b[39;49m),bee_position,max_step\u001b[39m=\u001b[39;49m\u001b[39m.1\u001b[39;49m)\n",
      "File \u001b[0;32m/opt/homebrew/lib/python3.10/site-packages/scipy/integrate/_ivp/ivp.py:557\u001b[0m, in \u001b[0;36msolve_ivp\u001b[0;34m(fun, t_span, y0, method, t_eval, dense_output, events, vectorized, args, **options)\u001b[0m\n\u001b[1;32m    554\u001b[0m \u001b[39mif\u001b[39;00m method \u001b[39min\u001b[39;00m METHODS:\n\u001b[1;32m    555\u001b[0m     method \u001b[39m=\u001b[39m METHODS[method]\n\u001b[0;32m--> 557\u001b[0m solver \u001b[39m=\u001b[39m method(fun, t0, y0, tf, vectorized\u001b[39m=\u001b[39;49mvectorized, \u001b[39m*\u001b[39;49m\u001b[39m*\u001b[39;49moptions)\n\u001b[1;32m    559\u001b[0m \u001b[39mif\u001b[39;00m t_eval \u001b[39mis\u001b[39;00m \u001b[39mNone\u001b[39;00m:\n\u001b[1;32m    560\u001b[0m     ts \u001b[39m=\u001b[39m [t0]\n",
      "File \u001b[0;32m/opt/homebrew/lib/python3.10/site-packages/scipy/integrate/_ivp/rk.py:94\u001b[0m, in \u001b[0;36mRungeKutta.__init__\u001b[0;34m(self, fun, t0, y0, t_bound, max_step, rtol, atol, vectorized, first_step, **extraneous)\u001b[0m\n\u001b[1;32m     92\u001b[0m \u001b[39mself\u001b[39m\u001b[39m.\u001b[39mmax_step \u001b[39m=\u001b[39m validate_max_step(max_step)\n\u001b[1;32m     93\u001b[0m \u001b[39mself\u001b[39m\u001b[39m.\u001b[39mrtol, \u001b[39mself\u001b[39m\u001b[39m.\u001b[39matol \u001b[39m=\u001b[39m validate_tol(rtol, atol, \u001b[39mself\u001b[39m\u001b[39m.\u001b[39mn)\n\u001b[0;32m---> 94\u001b[0m \u001b[39mself\u001b[39m\u001b[39m.\u001b[39mf \u001b[39m=\u001b[39m \u001b[39mself\u001b[39;49m\u001b[39m.\u001b[39;49mfun(\u001b[39mself\u001b[39;49m\u001b[39m.\u001b[39;49mt, \u001b[39mself\u001b[39;49m\u001b[39m.\u001b[39;49my)\n\u001b[1;32m     95\u001b[0m \u001b[39mif\u001b[39;00m first_step \u001b[39mis\u001b[39;00m \u001b[39mNone\u001b[39;00m:\n\u001b[1;32m     96\u001b[0m     \u001b[39mself\u001b[39m\u001b[39m.\u001b[39mh_abs \u001b[39m=\u001b[39m select_initial_step(\n\u001b[1;32m     97\u001b[0m         \u001b[39mself\u001b[39m\u001b[39m.\u001b[39mfun, \u001b[39mself\u001b[39m\u001b[39m.\u001b[39mt, \u001b[39mself\u001b[39m\u001b[39m.\u001b[39my, \u001b[39mself\u001b[39m\u001b[39m.\u001b[39mf, \u001b[39mself\u001b[39m\u001b[39m.\u001b[39mdirection,\n\u001b[1;32m     98\u001b[0m         \u001b[39mself\u001b[39m\u001b[39m.\u001b[39merror_estimator_order, \u001b[39mself\u001b[39m\u001b[39m.\u001b[39mrtol, \u001b[39mself\u001b[39m\u001b[39m.\u001b[39matol)\n",
      "File \u001b[0;32m/opt/homebrew/lib/python3.10/site-packages/scipy/integrate/_ivp/base.py:138\u001b[0m, in \u001b[0;36mOdeSolver.__init__.<locals>.fun\u001b[0;34m(t, y)\u001b[0m\n\u001b[1;32m    136\u001b[0m \u001b[39mdef\u001b[39;00m \u001b[39mfun\u001b[39m(t, y):\n\u001b[1;32m    137\u001b[0m     \u001b[39mself\u001b[39m\u001b[39m.\u001b[39mnfev \u001b[39m+\u001b[39m\u001b[39m=\u001b[39m \u001b[39m1\u001b[39m\n\u001b[0;32m--> 138\u001b[0m     \u001b[39mreturn\u001b[39;00m \u001b[39mself\u001b[39;49m\u001b[39m.\u001b[39;49mfun_single(t, y)\n",
      "File \u001b[0;32m/opt/homebrew/lib/python3.10/site-packages/scipy/integrate/_ivp/base.py:20\u001b[0m, in \u001b[0;36mcheck_arguments.<locals>.fun_wrapped\u001b[0;34m(t, y)\u001b[0m\n\u001b[1;32m     19\u001b[0m \u001b[39mdef\u001b[39;00m \u001b[39mfun_wrapped\u001b[39m(t, y):\n\u001b[0;32m---> 20\u001b[0m     \u001b[39mreturn\u001b[39;00m np\u001b[39m.\u001b[39masarray(fun(t, y), dtype\u001b[39m=\u001b[39mdtype)\n",
      "\u001b[1;32m/Users/matthewmella/all-the-buzz/matt-version.ipynb Cell 10\u001b[0m line \u001b[0;36m9\n\u001b[1;32m      <a href='vscode-notebook-cell:/Users/matthewmella/all-the-buzz/matt-version.ipynb#W4sZmlsZQ%3D%3D?line=6'>7</a>\u001b[0m G \u001b[39m=\u001b[39m attraction_to_velocity(mutual_attractions, distance)\n\u001b[1;32m      <a href='vscode-notebook-cell:/Users/matthewmella/all-the-buzz/matt-version.ipynb#W4sZmlsZQ%3D%3D?line=7'>8</a>\u001b[0m \u001b[39m# velocity += max_speed/(1+np.exp(-G))\u001b[39;00m\n\u001b[0;32m----> <a href='vscode-notebook-cell:/Users/matthewmella/all-the-buzz/matt-version.ipynb#W4sZmlsZQ%3D%3D?line=8'>9</a>\u001b[0m buzz_factor \u001b[39m=\u001b[39m np\u001b[39m.\u001b[39marray([velocity[\u001b[39m1\u001b[39;49m],\u001b[39m-\u001b[39mvelocity[\u001b[39m0\u001b[39m]])\n\u001b[1;32m     <a href='vscode-notebook-cell:/Users/matthewmella/all-the-buzz/matt-version.ipynb#W4sZmlsZQ%3D%3D?line=9'>10</a>\u001b[0m \u001b[39mreturn\u001b[39;00m velocity \u001b[39m+\u001b[39m \u001b[39m5\u001b[39m\u001b[39m*\u001b[39mnp\u001b[39m.\u001b[39msin(\u001b[39m2\u001b[39m\u001b[39m*\u001b[39mt)\u001b[39m*\u001b[39m(buzz_factor\u001b[39m/\u001b[39m(np\u001b[39m.\u001b[39mlinalg\u001b[39m.\u001b[39mnorm(buzz_factor)\u001b[39m+\u001b[39m\u001b[39m1\u001b[39m))\n",
      "\u001b[0;31mTypeError\u001b[0m: 'int' object is not subscriptable"
     ]
    }
   ],
   "source": [
    "def ode(t,x):\n",
    "    max_speed = .1\n",
    "    velocity = 0\n",
    "    mutual_attractions = flower_attraction - bee_preferences[:, np.newaxis]\n",
    "    distance = flower_positions - x[:, np.newaxis]\n",
    "\n",
    "    G = attraction_to_velocity(mutual_attractions, distance)\n",
    "    # velocity += max_speed/(1+np.exp(-G))\n",
    "    buzz_factor = np.array([velocity[1],-velocity[0]])\n",
    "    return velocity + 5*np.sin(2*t)*(buzz_factor/(np.linalg.norm(buzz_factor)+1))\n",
    "\n",
    "sol = solve_ivp(ode,(0,300),bee_position,max_step=.1)"
   ]
  },
  {
   "cell_type": "code",
   "execution_count": 135,
   "metadata": {},
   "outputs": [
    {
     "name": "stdout",
     "output_type": "stream",
     "text": [
      "3002\n"
     ]
    },
    {
     "data": {
      "image/png": "[encoded data removed]",
      "text/plain": [
       "<Figure size 640x480 with 1 Axes>"
      ]
     },
     "metadata": {},
     "output_type": "display_data"
    }
   ],
   "source": [
    "for attractor in attractors:\n",
    "    plt.plot(attractor[0][0],attractor[0][1],'kx')\n",
    "plt.plot(5,2,\"gx\",label=\"Initial Position\")\n",
    "print(len(sol.y[0]))\n",
    "plt.plot(sol.y[0],sol.y[1],'b-',label=\"Trajectory\")\n",
    "plt.title(\"Simple Model: Several Attractors\")\n",
    "plt.legend(loc=\"best\")\n",
    "plt.savefig(\"several_attractors2.png\",dpi=100)\n"
   ]
  }
 ],
 "metadata": {
  "kernelspec": {
   "display_name": "Python 3",
   "language": "python",
   "name": "python3"
  },
  "language_info": {
   "codemirror_mode": {
    "name": "ipython",
    "version": 3
   },
   "file_extension": ".py",
   "mimetype": "text/x-python",
   "name": "python",
   "nbconvert_exporter": "python",
   "pygments_lexer": "ipython3",
   "version": "3.10.13"
  }
 },
 "nbformat": 4,
 "nbformat_minor": 2
}
