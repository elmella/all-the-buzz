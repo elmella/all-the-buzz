{
 "cells": [
  {
   "cell_type": "code",
   "execution_count": 5,
   "metadata": {
    "ExecuteTime": {
     "end_time": "2023-11-22T02:37:02.434368600Z",
     "start_time": "2023-11-22T02:37:01.456214200Z"
    }
   },
   "outputs": [],
   "source": [
    "import numpy as np\n",
    "from matplotlib import pyplot as plt\n",
    "from scipy.integrate import solve_ivp\n",
    "import matplotlib.animation as animation"
   ]
  },
  {
   "cell_type": "code",
   "execution_count": 6,
   "metadata": {
    "ExecuteTime": {
     "end_time": "2023-11-22T02:37:02.445439500Z",
     "start_time": "2023-11-22T02:37:02.434368600Z"
    }
   },
   "outputs": [],
   "source": [
    "def random_flower_attraction(features=2, num_flowers = 10, max_attraction = 10):\n",
    "    # Random initial condition, only positive, numbers between 0 and max_attraction\n",
    "    return np.random.rand(features, num_flowers) * max_attraction\n",
    "def random_flower_position(num_flowers = 10, max_position = 10):\n",
    "    # Random initial condition, only positive, numbers between 0 and max_position\n",
    "    return np.random.rand(2, num_flowers) * max_position\n",
    "def random_bee_position(num_bees = 10, max_position = 10):\n",
    "    # Random initial condition x and y, only positive coordinates\n",
    "    return np.random.rand(2, num_bees) * max_position\n",
    "def random_bee_attraction(features=2, num_bees = 10, max_attraction=10):\n",
    "    # Random initial condition, only positive, numbers between 0 and max_attraction\n",
    "    return np.random.rand(features, num_bees) * max_attraction\n",
    "def gauss_dist(norms, alpha):\n",
    "    # Gaussian distance function\n",
    "    return np.exp(-alpha*(norms**2))"
   ]
  },
  {
   "cell_type": "code",
   "execution_count": 19,
   "metadata": {
    "ExecuteTime": {
     "end_time": "2023-11-22T03:08:25.379181700Z",
     "start_time": "2023-11-22T03:08:25.327204200Z"
    }
   },
   "outputs": [],
   "source": [
    "def beehive_attraction(t):\n",
    "    t_final = 2000\n",
    "    # Behive attraction function\n",
    "    return 100 / (1 + np.exp(-4*(t-t_final/2)))\n",
    "\n",
    "\n",
    "def attraction_to_flower(attraction_differences, distance, distance_norms, t, final_pos, x_flat, alpha=1):\n",
    "    \"\"\"\n",
    "    Include gamma array to modulate the attraction based on visited flowers.\n",
    "    Params:\n",
    "        mutual_attraction: features x num_flowers \n",
    "        mutual_distances: 2 x num_flowers\n",
    "        gamma: array representing the attraction modulation\n",
    "        max_velocity: float\n",
    "    \"\"\"\n",
    "    # find the norm of the distance and the attraction\n",
    "    attraction_norm = np.linalg.norm(attraction_differences, axis=0)\n",
    "    velocity_unit_vector = distance / (distance_norms + 1e-8)\n",
    "    print((velocity_unit_vector * gauss_dist(distance_norms, alpha)).shape)\n",
    "    print(x_flat.shape)\n",
    "    net_attraction = (velocity_unit_vector * gauss_dist(distance_norms, alpha) + beehive_attraction(t)*(final_pos - x_flat)) / (1 + attraction_norm)\n",
    "\n",
    "    return net_attraction\n"
   ]
  },
  {
   "cell_type": "code",
   "execution_count": 20,
   "metadata": {
    "ExecuteTime": {
     "end_time": "2023-11-22T03:08:25.892699700Z",
     "start_time": "2023-11-22T03:08:25.773484300Z"
    }
   },
   "outputs": [
    {
     "name": "stdout",
     "output_type": "stream",
     "text": [
      "(2, 1, 10)\n",
      "(2,)\n"
     ]
    },
    {
     "name": "stderr",
     "output_type": "stream",
     "text": [
      "/tmp/ipykernel_21347/2098771929.py:4: RuntimeWarning: overflow encountered in exp\n",
      "  return 100 / (1 + np.exp(-4*(t-t_final/2)))\n"
     ]
    },
    {
     "ename": "ValueError",
     "evalue": "operands could not be broadcast together with shapes (2,1,10) (2,2) ",
     "output_type": "error",
     "traceback": [
      "\u001B[0;31m---------------------------------------------------------------------------\u001B[0m",
      "\u001B[0;31mValueError\u001B[0m                                Traceback (most recent call last)",
      "Cell \u001B[0;32mIn[20], line 46\u001B[0m\n\u001B[1;32m     42\u001B[0m     \u001B[38;5;28;01mreturn\u001B[39;00m velocity\u001B[38;5;241m.\u001B[39mflatten()\n\u001B[1;32m     44\u001B[0m \u001B[38;5;66;03m# ode(0, bee_positions, T_i)\u001B[39;00m\n\u001B[0;32m---> 46\u001B[0m solution \u001B[38;5;241m=\u001B[39m \u001B[43msolve_ivp\u001B[49m\u001B[43m(\u001B[49m\u001B[43mode\u001B[49m\u001B[43m,\u001B[49m\u001B[43m \u001B[49m\u001B[43m(\u001B[49m\u001B[38;5;241;43m0\u001B[39;49m\u001B[43m,\u001B[49m\u001B[43mt_final\u001B[49m\u001B[43m)\u001B[49m\u001B[43m,\u001B[49m\u001B[43m \u001B[49m\u001B[43mbee_positions\u001B[49m\u001B[38;5;241;43m.\u001B[39;49m\u001B[43mflatten\u001B[49m\u001B[43m(\u001B[49m\u001B[43m)\u001B[49m\u001B[43m,\u001B[49m\u001B[43m \u001B[49m\u001B[43mt_eval\u001B[49m\u001B[38;5;241;43m=\u001B[39;49m\u001B[43mt_vals\u001B[49m\u001B[43m,\u001B[49m\u001B[43m \u001B[49m\u001B[43margs\u001B[49m\u001B[38;5;241;43m=\u001B[39;49m\u001B[43m(\u001B[49m\u001B[43mT_i\u001B[49m\u001B[43m,\u001B[49m\u001B[43m \u001B[49m\u001B[43mfinal_pos\u001B[49m\u001B[43m)\u001B[49m\u001B[43m,\u001B[49m\u001B[43m \u001B[49m\u001B[43mdense_output\u001B[49m\u001B[38;5;241;43m=\u001B[39;49m\u001B[38;5;28;43;01mTrue\u001B[39;49;00m\u001B[43m)\u001B[49m\n\u001B[1;32m     48\u001B[0m \u001B[38;5;66;03m# Extract the solution\u001B[39;00m\n\u001B[1;32m     49\u001B[0m trajectories \u001B[38;5;241m=\u001B[39m solution\u001B[38;5;241m.\u001B[39my\n",
      "File \u001B[0;32m~/.local/lib/python3.10/site-packages/scipy/integrate/_ivp/ivp.py:557\u001B[0m, in \u001B[0;36msolve_ivp\u001B[0;34m(fun, t_span, y0, method, t_eval, dense_output, events, vectorized, args, **options)\u001B[0m\n\u001B[1;32m    554\u001B[0m \u001B[38;5;28;01mif\u001B[39;00m method \u001B[38;5;129;01min\u001B[39;00m METHODS:\n\u001B[1;32m    555\u001B[0m     method \u001B[38;5;241m=\u001B[39m METHODS[method]\n\u001B[0;32m--> 557\u001B[0m solver \u001B[38;5;241m=\u001B[39m \u001B[43mmethod\u001B[49m\u001B[43m(\u001B[49m\u001B[43mfun\u001B[49m\u001B[43m,\u001B[49m\u001B[43m \u001B[49m\u001B[43mt0\u001B[49m\u001B[43m,\u001B[49m\u001B[43m \u001B[49m\u001B[43my0\u001B[49m\u001B[43m,\u001B[49m\u001B[43m \u001B[49m\u001B[43mtf\u001B[49m\u001B[43m,\u001B[49m\u001B[43m \u001B[49m\u001B[43mvectorized\u001B[49m\u001B[38;5;241;43m=\u001B[39;49m\u001B[43mvectorized\u001B[49m\u001B[43m,\u001B[49m\u001B[43m \u001B[49m\u001B[38;5;241;43m*\u001B[39;49m\u001B[38;5;241;43m*\u001B[39;49m\u001B[43moptions\u001B[49m\u001B[43m)\u001B[49m\n\u001B[1;32m    559\u001B[0m \u001B[38;5;28;01mif\u001B[39;00m t_eval \u001B[38;5;129;01mis\u001B[39;00m \u001B[38;5;28;01mNone\u001B[39;00m:\n\u001B[1;32m    560\u001B[0m     ts \u001B[38;5;241m=\u001B[39m [t0]\n",
      "File \u001B[0;32m~/.local/lib/python3.10/site-packages/scipy/integrate/_ivp/rk.py:94\u001B[0m, in \u001B[0;36mRungeKutta.__init__\u001B[0;34m(self, fun, t0, y0, t_bound, max_step, rtol, atol, vectorized, first_step, **extraneous)\u001B[0m\n\u001B[1;32m     92\u001B[0m \u001B[38;5;28mself\u001B[39m\u001B[38;5;241m.\u001B[39mmax_step \u001B[38;5;241m=\u001B[39m validate_max_step(max_step)\n\u001B[1;32m     93\u001B[0m \u001B[38;5;28mself\u001B[39m\u001B[38;5;241m.\u001B[39mrtol, \u001B[38;5;28mself\u001B[39m\u001B[38;5;241m.\u001B[39matol \u001B[38;5;241m=\u001B[39m validate_tol(rtol, atol, \u001B[38;5;28mself\u001B[39m\u001B[38;5;241m.\u001B[39mn)\n\u001B[0;32m---> 94\u001B[0m \u001B[38;5;28mself\u001B[39m\u001B[38;5;241m.\u001B[39mf \u001B[38;5;241m=\u001B[39m \u001B[38;5;28;43mself\u001B[39;49m\u001B[38;5;241;43m.\u001B[39;49m\u001B[43mfun\u001B[49m\u001B[43m(\u001B[49m\u001B[38;5;28;43mself\u001B[39;49m\u001B[38;5;241;43m.\u001B[39;49m\u001B[43mt\u001B[49m\u001B[43m,\u001B[49m\u001B[43m \u001B[49m\u001B[38;5;28;43mself\u001B[39;49m\u001B[38;5;241;43m.\u001B[39;49m\u001B[43my\u001B[49m\u001B[43m)\u001B[49m\n\u001B[1;32m     95\u001B[0m \u001B[38;5;28;01mif\u001B[39;00m first_step \u001B[38;5;129;01mis\u001B[39;00m \u001B[38;5;28;01mNone\u001B[39;00m:\n\u001B[1;32m     96\u001B[0m     \u001B[38;5;28mself\u001B[39m\u001B[38;5;241m.\u001B[39mh_abs \u001B[38;5;241m=\u001B[39m select_initial_step(\n\u001B[1;32m     97\u001B[0m         \u001B[38;5;28mself\u001B[39m\u001B[38;5;241m.\u001B[39mfun, \u001B[38;5;28mself\u001B[39m\u001B[38;5;241m.\u001B[39mt, \u001B[38;5;28mself\u001B[39m\u001B[38;5;241m.\u001B[39my, \u001B[38;5;28mself\u001B[39m\u001B[38;5;241m.\u001B[39mf, \u001B[38;5;28mself\u001B[39m\u001B[38;5;241m.\u001B[39mdirection,\n\u001B[1;32m     98\u001B[0m         \u001B[38;5;28mself\u001B[39m\u001B[38;5;241m.\u001B[39merror_estimator_order, \u001B[38;5;28mself\u001B[39m\u001B[38;5;241m.\u001B[39mrtol, \u001B[38;5;28mself\u001B[39m\u001B[38;5;241m.\u001B[39matol)\n",
      "File \u001B[0;32m~/.local/lib/python3.10/site-packages/scipy/integrate/_ivp/base.py:138\u001B[0m, in \u001B[0;36mOdeSolver.__init__.<locals>.fun\u001B[0;34m(t, y)\u001B[0m\n\u001B[1;32m    136\u001B[0m \u001B[38;5;28;01mdef\u001B[39;00m \u001B[38;5;21mfun\u001B[39m(t, y):\n\u001B[1;32m    137\u001B[0m     \u001B[38;5;28mself\u001B[39m\u001B[38;5;241m.\u001B[39mnfev \u001B[38;5;241m+\u001B[39m\u001B[38;5;241m=\u001B[39m \u001B[38;5;241m1\u001B[39m\n\u001B[0;32m--> 138\u001B[0m     \u001B[38;5;28;01mreturn\u001B[39;00m \u001B[38;5;28;43mself\u001B[39;49m\u001B[38;5;241;43m.\u001B[39;49m\u001B[43mfun_single\u001B[49m\u001B[43m(\u001B[49m\u001B[43mt\u001B[49m\u001B[43m,\u001B[49m\u001B[43m \u001B[49m\u001B[43my\u001B[49m\u001B[43m)\u001B[49m\n",
      "File \u001B[0;32m~/.local/lib/python3.10/site-packages/scipy/integrate/_ivp/base.py:20\u001B[0m, in \u001B[0;36mcheck_arguments.<locals>.fun_wrapped\u001B[0;34m(t, y)\u001B[0m\n\u001B[1;32m     19\u001B[0m \u001B[38;5;28;01mdef\u001B[39;00m \u001B[38;5;21mfun_wrapped\u001B[39m(t, y):\n\u001B[0;32m---> 20\u001B[0m     \u001B[38;5;28;01mreturn\u001B[39;00m np\u001B[38;5;241m.\u001B[39masarray(\u001B[43mfun\u001B[49m\u001B[43m(\u001B[49m\u001B[43mt\u001B[49m\u001B[43m,\u001B[49m\u001B[43m \u001B[49m\u001B[43my\u001B[49m\u001B[43m)\u001B[49m, dtype\u001B[38;5;241m=\u001B[39mdtype)\n",
      "File \u001B[0;32m~/.local/lib/python3.10/site-packages/scipy/integrate/_ivp/ivp.py:529\u001B[0m, in \u001B[0;36msolve_ivp.<locals>.<lambda>\u001B[0;34m(t, x, fun)\u001B[0m\n\u001B[1;32m    523\u001B[0m     suggestion_tuple \u001B[38;5;241m=\u001B[39m (\n\u001B[1;32m    524\u001B[0m         \u001B[38;5;124m\"\u001B[39m\u001B[38;5;124mSupplied \u001B[39m\u001B[38;5;124m'\u001B[39m\u001B[38;5;124margs\u001B[39m\u001B[38;5;124m'\u001B[39m\u001B[38;5;124m cannot be unpacked. Please supply `args`\u001B[39m\u001B[38;5;124m\"\u001B[39m\n\u001B[1;32m    525\u001B[0m         \u001B[38;5;124mf\u001B[39m\u001B[38;5;124m\"\u001B[39m\u001B[38;5;124m as a tuple (e.g. `args=(\u001B[39m\u001B[38;5;132;01m{\u001B[39;00margs\u001B[38;5;132;01m}\u001B[39;00m\u001B[38;5;124m,)`)\u001B[39m\u001B[38;5;124m\"\u001B[39m\n\u001B[1;32m    526\u001B[0m     )\n\u001B[1;32m    527\u001B[0m     \u001B[38;5;28;01mraise\u001B[39;00m \u001B[38;5;167;01mTypeError\u001B[39;00m(suggestion_tuple) \u001B[38;5;28;01mfrom\u001B[39;00m \u001B[38;5;21;01mexp\u001B[39;00m\n\u001B[0;32m--> 529\u001B[0m fun \u001B[38;5;241m=\u001B[39m \u001B[38;5;28;01mlambda\u001B[39;00m t, x, fun\u001B[38;5;241m=\u001B[39mfun: \u001B[43mfun\u001B[49m\u001B[43m(\u001B[49m\u001B[43mt\u001B[49m\u001B[43m,\u001B[49m\u001B[43m \u001B[49m\u001B[43mx\u001B[49m\u001B[43m,\u001B[49m\u001B[43m \u001B[49m\u001B[38;5;241;43m*\u001B[39;49m\u001B[43margs\u001B[49m\u001B[43m)\u001B[49m\n\u001B[1;32m    530\u001B[0m jac \u001B[38;5;241m=\u001B[39m options\u001B[38;5;241m.\u001B[39mget(\u001B[38;5;124m'\u001B[39m\u001B[38;5;124mjac\u001B[39m\u001B[38;5;124m'\u001B[39m)\n\u001B[1;32m    531\u001B[0m \u001B[38;5;28;01mif\u001B[39;00m \u001B[38;5;28mcallable\u001B[39m(jac):\n",
      "Cell \u001B[0;32mIn[20], line 33\u001B[0m, in \u001B[0;36mode\u001B[0;34m(t, x_flat, T_i, final_pos)\u001B[0m\n\u001B[1;32m     30\u001B[0m T_i \u001B[38;5;241m-\u001B[39m\u001B[38;5;241m=\u001B[39m (distance_norms \u001B[38;5;241m<\u001B[39m eps) \u001B[38;5;241m*\u001B[39m ((t_final \u001B[38;5;241m/\u001B[39m t_steps) \u001B[38;5;241m*\u001B[39m (\u001B[38;5;241m1\u001B[39m \u001B[38;5;241m/\u001B[39m seconds_at_flower))\n\u001B[1;32m     31\u001B[0m gamma \u001B[38;5;241m=\u001B[39m T_i \u001B[38;5;241m>\u001B[39m \u001B[38;5;241m0\u001B[39m\n\u001B[0;32m---> 33\u001B[0m attractors \u001B[38;5;241m=\u001B[39m \u001B[43mattraction_to_flower\u001B[49m\u001B[43m(\u001B[49m\u001B[43mattraction_differences\u001B[49m\u001B[43m,\u001B[49m\u001B[43m \u001B[49m\u001B[43mdistance\u001B[49m\u001B[43m,\u001B[49m\u001B[43m \u001B[49m\u001B[43mdistance_norms\u001B[49m\u001B[43m,\u001B[49m\u001B[43m \u001B[49m\u001B[43mt\u001B[49m\u001B[43m,\u001B[49m\u001B[43m \u001B[49m\u001B[43mfinal_pos\u001B[49m\u001B[43m,\u001B[49m\u001B[43m \u001B[49m\u001B[43mx_flat\u001B[49m\u001B[43m,\u001B[49m\u001B[43m \u001B[49m\u001B[43malpha\u001B[49m\u001B[43m)\u001B[49m\n\u001B[1;32m     35\u001B[0m attractors \u001B[38;5;241m=\u001B[39m attractors\u001B[38;5;241m*\u001B[39mgamma\n\u001B[1;32m     37\u001B[0m combined_vector \u001B[38;5;241m=\u001B[39m attractors\u001B[38;5;241m.\u001B[39msum(axis\u001B[38;5;241m=\u001B[39m\u001B[38;5;241m2\u001B[39m)\n",
      "Cell \u001B[0;32mIn[19], line 21\u001B[0m, in \u001B[0;36mattraction_to_flower\u001B[0;34m(attraction_differences, distance, distance_norms, t, final_pos, x_flat, alpha)\u001B[0m\n\u001B[1;32m     19\u001B[0m \u001B[38;5;28mprint\u001B[39m((velocity_unit_vector \u001B[38;5;241m*\u001B[39m gauss_dist(distance_norms, alpha))\u001B[38;5;241m.\u001B[39mshape)\n\u001B[1;32m     20\u001B[0m \u001B[38;5;28mprint\u001B[39m(x_flat\u001B[38;5;241m.\u001B[39mshape)\n\u001B[0;32m---> 21\u001B[0m net_attraction \u001B[38;5;241m=\u001B[39m (\u001B[43mvelocity_unit_vector\u001B[49m\u001B[43m \u001B[49m\u001B[38;5;241;43m*\u001B[39;49m\u001B[43m \u001B[49m\u001B[43mgauss_dist\u001B[49m\u001B[43m(\u001B[49m\u001B[43mdistance_norms\u001B[49m\u001B[43m,\u001B[49m\u001B[43m \u001B[49m\u001B[43malpha\u001B[49m\u001B[43m)\u001B[49m\u001B[43m \u001B[49m\u001B[38;5;241;43m+\u001B[39;49m\u001B[43m \u001B[49m\u001B[43mbeehive_attraction\u001B[49m\u001B[43m(\u001B[49m\u001B[43mt\u001B[49m\u001B[43m)\u001B[49m\u001B[38;5;241;43m*\u001B[39;49m\u001B[43m(\u001B[49m\u001B[43mfinal_pos\u001B[49m\u001B[43m \u001B[49m\u001B[38;5;241;43m-\u001B[39;49m\u001B[43m \u001B[49m\u001B[43mx_flat\u001B[49m\u001B[43m)\u001B[49m) \u001B[38;5;241m/\u001B[39m (\u001B[38;5;241m1\u001B[39m \u001B[38;5;241m+\u001B[39m attraction_norm)\n\u001B[1;32m     23\u001B[0m \u001B[38;5;28;01mreturn\u001B[39;00m net_attraction\n",
      "\u001B[0;31mValueError\u001B[0m: operands could not be broadcast together with shapes (2,1,10) (2,2) "
     ]
    }
   ],
   "source": [
    "flower_qnty = 10\n",
    "bee_qnty = 1\n",
    "max_attraction = 4\n",
    "max_position = 100\n",
    "features = 5\n",
    "flower_positions = random_flower_position(num_flowers=flower_qnty, max_position=max_position)\n",
    "bee_positions = random_bee_position(num_bees=bee_qnty, max_position=max_position)\n",
    "bee_preferences = random_bee_attraction(features=features, num_bees=bee_qnty, max_attraction=max_attraction)\n",
    "flower_attraction = random_flower_attraction(num_flowers=flower_qnty, features=features, max_attraction=max_attraction)\n",
    "\n",
    "# Define parameters and initial conditions\n",
    "t_steps = 5000\n",
    "t_final = 2000\n",
    "t_vals = np.linspace(0,t_final,t_steps)\n",
    "nu = 3  # Parameter for the ODE\n",
    "xsi = 0.2  # Parameter for the ODE\n",
    "alpha = 0.2 / max_position  # Parameter for the ODE\n",
    "eps = 5  # Proximity threshold for flower visitation\n",
    "\n",
    "seconds_at_flower =  2\n",
    "attraction_differences = bee_preferences[:, :, np.newaxis] - flower_attraction[:, np.newaxis, :]  # Shape -> (num_features, num_bees, num_flowers)\n",
    "T_i = np.ones((bee_qnty, flower_qnty))\n",
    "final_pos = random_bee_position(num_bees=1, max_position=max_position)\n",
    "def ode(t, x_flat, T_i, final_pos):\n",
    "\n",
    "    # Reshape x back to its original 2D shape\n",
    "    x = x_flat.reshape((2, -1))\n",
    "    distance = flower_positions[:, np.newaxis, :] - x[:, :, np.newaxis]\n",
    "    distance_norms = np.linalg.norm(distance, axis=0)\n",
    "    T_i -= (distance_norms < eps) * ((t_final / t_steps) * (1 / seconds_at_flower))\n",
    "    gamma = T_i > 0\n",
    "\n",
    "    attractors = attraction_to_flower(attraction_differences, distance, distance_norms, t, final_pos, x_flat, alpha)\n",
    "\n",
    "    attractors = attractors*gamma\n",
    "\n",
    "    combined_vector = attractors.sum(axis=2)\n",
    "    \n",
    "    velocity = (nu * combined_vector) / (xsi + np.linalg.norm(combined_vector, axis=0))\n",
    "\n",
    "    # return the velocity for each bee\n",
    "    return velocity.flatten()\n",
    "\n",
    "# ode(0, bee_positions, T_i)\n",
    "\n",
    "solution = solve_ivp(ode, (0,t_final), bee_positions.flatten(), t_eval=t_vals, args=(T_i, final_pos), dense_output=True)\n",
    "\n",
    "# Extract the solution\n",
    "trajectories = solution.y\n",
    "\n",
    "# Reshape the trajectories to (2, num_bees, num_time_points)\n",
    "num_bees = bee_qnty\n",
    "num_time_points = trajectories.shape[1]\n",
    "trajectories_reshaped = trajectories.reshape((2, num_bees, num_time_points))\n",
    "\n",
    "plt.figure(figsize=(10, 6))\n",
    "\n",
    "\n",
    "\n",
    "for i in range(num_bees):\n",
    "    # Extracting the x and y coordinates of the i-th bee\n",
    "    x = trajectories_reshaped[0, i, :]\n",
    "    y = trajectories_reshaped[1, i, :]\n",
    "    plt.plot(x, y, label=f'Bee {i+1}')\n",
    "\n",
    "plt.scatter(bee_positions[0, :], bee_positions[1, :], label='Starting Positions')\n",
    "# plot the flowers\n",
    "plt.scatter(flower_positions[0, :], flower_positions[1, :], marker='x', color='r', label='Flower Positions')\n",
    "\n",
    "plt.xlabel('X Coordinate')\n",
    "plt.ylabel('Y Coordinate')\n",
    "plt.title('Trajectories of Bees')\n",
    "plt.xlim(-5,max_position + 5)\n",
    "plt.ylim(-5,max_position + 5)\n",
    "plt.legend()\n",
    "\n",
    "plt.show()\n"
   ]
  },
  {
   "cell_type": "code",
   "execution_count": 24,
   "outputs": [
    {
     "name": "stdout",
     "output_type": "stream",
     "text": [
      "1\n"
     ]
    },
    {
     "data": {
      "text/plain": "<Figure size 640x480 with 1 Axes>",
      "image/png": "[encoded data removed]"
     },
     "metadata": {},
     "output_type": "display_data"
    },
    {
     "data": {
      "text/plain": "<Figure size 1000x600 with 1 Axes>",
      "image/png": "[encoded data removed]"
     },
     "metadata": {},
     "output_type": "display_data"
    }
   ],
   "source": [
    "# Create the plot axes\n",
    "fig = plt.figure()\n",
    "ax = fig.add_subplot(1, 1, 1)\n",
    "\n",
    "\n",
    "solution = solve_ivp(ode, (0,t_final), bee_positions.flatten(), t_eval=t_vals, args=(T_i,), dense_output=True)\n",
    "\n",
    "# Extract the solution\n",
    "trajectories = solution.y\n",
    "\n",
    "# Reshape the trajectories to (2, num_bees, num_time_points)\n",
    "num_bees = bee_qnty\n",
    "num_time_points = trajectories.shape[1]\n",
    "trajectories_reshaped = trajectories.reshape((2, num_bees, num_time_points))\n",
    "\n",
    "plt.figure(figsize=(10, 6))\n",
    "\n",
    "for i in range(num_bees):\n",
    "    # Extracting the x and y coordinates of the i-th bee\n",
    "    x = trajectories_reshaped[0, i, :]\n",
    "    y = trajectories_reshaped[1, i, :]\n",
    "    plt.plot(x, y, label=f'Bee {i+1}')\n",
    "\n",
    "# plt.scatter(bee_positions[0, :], bee_positions[1, :], label='Starting Positions')\n",
    "# # plot the flowers\n",
    "# plt.scatter(flower_positions[0, :], flower_positions[1, :], marker='x', color='r', label='Flower Positions')\n",
    "\n",
    "plt.xlabel('X Coordinate')\n",
    "plt.ylabel('Y Coordinate')\n",
    "plt.title('Trajectories of Bees')\n",
    "plt.xlim(-5,max_position + 5)\n",
    "plt.ylim(-5,max_position + 5)\n",
    "plt.legend()\n",
    "plt.show()\n",
    "\n",
    "# set limits\n",
    "ax.set_xlim(-5,max_position + 5)\n",
    "ax.set_ylim(-5,max_position + 5)\n",
    "\n",
    "# create the line object\n",
    "line, = ax.plot([], [], 'r-')\n",
    "\n",
    "# Define the update function\n",
    "def update(t):\n",
    "    line.set_data(solution.y[0][:t], solution.y[1][:t])\n",
    "\n",
    "# run the animation\n",
    "# ani = animation.FuncAnimation(fig, update, frames=solution.y.shape[1] - 4000, interval=5)\n",
    "# \n",
    "# ani.save(\"bee_animation.mp4\")\n",
    "\n",
    "\n"
   ],
   "metadata": {
    "collapsed": false,
    "ExecuteTime": {
     "end_time": "2023-11-22T01:46:19.066831400Z",
     "start_time": "2023-11-22T01:46:18.793397400Z"
    }
   }
  },
  {
   "cell_type": "code",
   "execution_count": 33,
   "outputs": [],
   "source": [
    "# import numpy as np\n",
    "# import matplotlib.pyplot as plt\n",
    "# from scipy.signal import convolve\n",
    "# \n",
    "# def h(x):\n",
    "#     return np.piecewise(x, [x <= -1/3, x >= 1/3], [-1, 1, lambda x: 3 * x])\n",
    "# \n",
    "# A = 1/4\n",
    "# def G(x):\n",
    "#     return np.exp(-(x/A)**2/2)/(A * np.sqrt(2 * np.pi))\n",
    "# \n",
    "# def H(y):\n",
    "#     return convolve(h(x), G(x), mode='same')\n",
    "# \n",
    "# def L(x):\n",
    "#     return H(np.sin(x))\n",
    "# \n",
    "# x = np.linspace(-2, 2, 1000)\n",
    "# plt.figure(figsize=(10, 6))\n",
    "# \n",
    "# # plt.subplot(3, 1, 1)\n",
    "# # plt.plot(x, h(x))\n",
    "# # plt.title('h(x)')\n",
    "# # plt.xlabel('x')\n",
    "# # plt.grid(True)\n",
    "# # \n",
    "# # plt.subplot(3, 1, 2)\n",
    "# # plt.plot(x, H(x))\n",
    "# # plt.title('H(x)')\n",
    "# # plt.xlabel('x')\n",
    "# # plt.grid(True)\n",
    "# \n",
    "# x = np.linspace(-5, 5, 1000)\n",
    "# # plt.subplot(3, 1, 3)\n",
    "# plt.plot(x, L(x))\n",
    "# plt.title('L(x)')\n",
    "# plt.xlabel('x')\n",
    "# plt.grid(True)\n",
    "# \n",
    "# plt.tight_layout()\n",
    "# plt.show()\n"
   ],
   "metadata": {
    "collapsed": false,
    "ExecuteTime": {
     "end_time": "2023-11-22T02:04:47.066934700Z",
     "start_time": "2023-11-22T02:04:46.981882900Z"
    }
   }
  }
 ],
 "metadata": {
  "kernelspec": {
   "display_name": "Python 3",
   "language": "python",
   "name": "python3"
  },
  "language_info": {
   "codemirror_mode": {
    "name": "ipython",
    "version": 3
   },
   "file_extension": ".py",
   "mimetype": "text/x-python",
   "name": "python",
   "nbconvert_exporter": "python",
   "pygments_lexer": "ipython3",
   "version": "3.10.13"
  }
 },
 "nbformat": 4,
 "nbformat_minor": 2
}
